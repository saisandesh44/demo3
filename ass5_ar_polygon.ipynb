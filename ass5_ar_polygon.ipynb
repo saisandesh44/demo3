{
 "cells": [
  {
   "cell_type": "code",
   "execution_count": 4,
   "metadata": {},
   "outputs": [
    {
     "name": "stdout",
     "output_type": "stream",
     "text": [
      "Enter number of sides: 5\n",
      "Enter the length of a side: 20\n",
      "The area of the polygon is:  688.1909602355868\n"
     ]
    }
   ],
   "source": [
    "from math import tan,pi\n",
    "sides = int(input(\"Enter number of sides: \"))\n",
    "length = float(input(\"Enter the length of a side: \"))\n",
    "area = sides * (length ** 2) / (4 * tan(pi / sides))\n",
    "print(\"The area of the polygon is: \",area)"
   ]
  }
 ],
 "metadata": {
  "kernelspec": {
   "display_name": "Python 3",
   "language": "python",
   "name": "python3"
  },
  "language_info": {
   "codemirror_mode": {
    "name": "ipython",
    "version": 3
   },
   "file_extension": ".py",
   "mimetype": "text/x-python",
   "name": "python",
   "nbconvert_exporter": "python",
   "pygments_lexer": "ipython3",
   "version": "3.8.3"
  }
 },
 "nbformat": 4,
 "nbformat_minor": 4
}
