{
 "cells": [
  {
   "cell_type": "code",
   "execution_count": 4,
   "metadata": {},
   "outputs": [
    {
     "name": "stdout",
     "output_type": "stream",
     "text": [
      "0.8660254037844386\n",
      "-1.0\n",
      "1.633123935319537e+16\n",
      "The angle of sin(0.8660254037844386): 59.99999999999999\n",
      "390625\n"
     ]
    }
   ],
   "source": [
    "import math\n",
    "print(math.sin(math.pi/3)) \n",
    "print(math.cos(math.pi))\n",
    "print(math.tan(math.pi/2))\n",
    "print('The angle of sin(0.8660254037844386): ' + str(math.degrees(math.asin(0.8660254037844386))))\n",
    "print(pow(5,8))\n"
   ]
  }
 ],
 "metadata": {
  "kernelspec": {
   "display_name": "Python 3",
   "language": "python",
   "name": "python3"
  },
  "language_info": {
   "codemirror_mode": {
    "name": "ipython",
    "version": 3
   },
   "file_extension": ".py",
   "mimetype": "text/x-python",
   "name": "python",
   "nbconvert_exporter": "python",
   "pygments_lexer": "ipython3",
   "version": "3.8.3"
  }
 },
 "nbformat": 4,
 "nbformat_minor": 4
}
