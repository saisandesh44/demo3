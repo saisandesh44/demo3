{
 "cells": [
  {
   "cell_type": "code",
   "execution_count": 3,
   "metadata": {},
   "outputs": [
    {
     "name": "stdout",
     "output_type": "stream",
     "text": [
      "Square root of 400: 20.0\n",
      "The value of 5^e: 148.4131591025766\n"
     ]
    }
   ],
   "source": [
    "import math\n",
    "print('Square root of 400: ' + str(math.sqrt(400)))\n",
    "print('The value of 5^e: ' + str(math.exp(5)))"
   ]
  },
  {
   "cell_type": "code",
   "execution_count": 2,
   "metadata": {},
   "outputs": [
    {
     "name": "stdout",
     "output_type": "stream",
     "text": [
      "The value of Log(1024), base 2: 10.0\n",
      "The value of Log(1024), base 10: 3.010299956639812\n"
     ]
    }
   ],
   "source": [
    "import math\n",
    "print('The value of Log(1024), base 2: ' + str(math.log2(1024)))\n",
    "print('The value of Log(1024), base 10: ' + str(math.log10(1024)))"
   ]
  },
  {
   "cell_type": "code",
   "execution_count": 4,
   "metadata": {},
   "outputs": [
    {
     "name": "stdout",
     "output_type": "stream",
     "text": [
      "The Floor and Ceiling value of 23.56 are: 24, 23\n"
     ]
    }
   ],
   "source": [
    "import math\n",
    "print('The Floor and Ceiling value of 23.56 are: ' + str(math.ceil(23.56)) + ', ' + str(math.floor(23.56)))"
   ]
  }
 ],
 "metadata": {
  "kernelspec": {
   "display_name": "Python 3",
   "language": "python",
   "name": "python3"
  },
  "language_info": {
   "codemirror_mode": {
    "name": "ipython",
    "version": 3
   },
   "file_extension": ".py",
   "mimetype": "text/x-python",
   "name": "python",
   "nbconvert_exporter": "python",
   "pygments_lexer": "ipython3",
   "version": "3.8.3"
  }
 },
 "nbformat": 4,
 "nbformat_minor": 4
}
